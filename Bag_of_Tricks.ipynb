{
  "cells": [
    {
      "cell_type": "code",
      "execution_count": null,
      "id": "24fd164a",
      "metadata": {
        "id": "24fd164a"
      },
      "outputs": [],
      "source": [
        "import pandas as pd\n",
        "import numpy as np\n",
        "import sklearn as sk\n",
        "import string\n",
        "import itertools\n",
        "from collections import Counter\n",
        "from gensim.models import Word2Vec, KeyedVectors\n",
        "from Levenshtein import distance as lev\n",
        "from ast import literal_eval\n",
        "import pickle\n",
        "from sklearn.model_selection import KFold\n",
        "import fasttext"
      ]
    },
    {
      "cell_type": "code",
      "execution_count": null,
      "id": "48383e5e",
      "metadata": {
        "id": "48383e5e",
        "outputId": "2598eced-44ff-4936-a5ae-60a2cef19cd8"
      },
      "outputs": [
        {
          "name": "stderr",
          "output_type": "stream",
          "text": [
            "C:\\Users\\balle\\anaconda3\\lib\\site-packages\\IPython\\core\\interactiveshell.py:3444: DtypeWarning: Columns (4,5) have mixed types.Specify dtype option on import or set low_memory=False.\n",
            "  exec(code_obj, self.user_global_ns, self.user_ns)\n"
          ]
        }
      ],
      "source": [
        "noteEvents=pd.read_csv(\"mimic-iii-clinical-database-1.4/NOTEEVENTS.csv\")\n",
        "diagnosis = pd.read_csv(\"mimic-iii-clinical-database-1.4/DIAGNOSES_ICD.csv\")"
      ]
    },
    {
      "cell_type": "markdown",
      "id": "aaa553c5",
      "metadata": {
        "id": "aaa553c5"
      },
      "source": [
        "# Preprocessing"
      ]
    },
    {
      "cell_type": "code",
      "execution_count": null,
      "id": "0266f875",
      "metadata": {
        "id": "0266f875"
      },
      "outputs": [],
      "source": [
        "noteEvents=noteEvents[[\"HADM_ID\",\"TEXT\",\"DESCRIPTION\"]]\n",
        "diagnosis = diagnosis[[\"HADM_ID\",\"SUBJECT_ID\",\"ICD9_CODE\"]]\n",
        "\n",
        "def exclude_procedure_code(x):\n",
        "    if str(x).startswith(\"0\"):\n",
        "        return False\n",
        "    return True\n",
        "\n",
        "#Group Diagnosis into 1 list per admission\n",
        "diagnosis=diagnosis[diagnosis[\"ICD9_CODE\"].apply(lambda x: exclude_procedure_code(x))]"
      ]
    },
    {
      "cell_type": "code",
      "execution_count": null,
      "id": "1d9d4344",
      "metadata": {
        "id": "1d9d4344"
      },
      "outputs": [],
      "source": [
        "def convert_icd9(x):\n",
        "    converted_code = []\n",
        "    for code in x:\n",
        "        icd9_str = str(code)\n",
        "        if icd9_str.startswith(\"E\"):\n",
        "            converted = icd9_str[:4]\n",
        "        else:\n",
        "            converted = icd9_str[:3]\n",
        "        converted_code.append(converted)\n",
        "    return converted_code\n",
        "\n",
        "def checkdiagnosis(x):\n",
        "    for code in x:\n",
        "        if str(code)[0:3]==\"250\":\n",
        "            return True\n",
        "    return False\n",
        "\n",
        "def exclude_procedure_code(x):\n",
        "    included_code = []\n",
        "    for code in x:\n",
        "        icd9_str = str(code)\n",
        "        if icd9_str.startswith(\"0\"):\n",
        "            pass\n",
        "        else:\n",
        "            included_code.append(code)\n",
        "    return included_code"
      ]
    },
    {
      "cell_type": "code",
      "execution_count": null,
      "id": "f95df955",
      "metadata": {
        "id": "f95df955",
        "outputId": "e148eeeb-4080-44fe-9183-35a575e7f716"
      },
      "outputs": [
        {
          "data": {
            "text/html": [
              "<div>\n",
              "<style scoped>\n",
              "    .dataframe tbody tr th:only-of-type {\n",
              "        vertical-align: middle;\n",
              "    }\n",
              "\n",
              "    .dataframe tbody tr th {\n",
              "        vertical-align: top;\n",
              "    }\n",
              "\n",
              "    .dataframe thead th {\n",
              "        text-align: right;\n",
              "    }\n",
              "</style>\n",
              "<table border=\"1\" class=\"dataframe\">\n",
              "  <thead>\n",
              "    <tr style=\"text-align: right;\">\n",
              "      <th></th>\n",
              "      <th>SUBJECT_ID</th>\n",
              "      <th>HADM_ID</th>\n",
              "      <th>ICD9_CODE</th>\n",
              "    </tr>\n",
              "  </thead>\n",
              "  <tbody>\n",
              "    <tr>\n",
              "      <th>0</th>\n",
              "      <td>2</td>\n",
              "      <td>163353</td>\n",
              "      <td>[V3001, V053, V290]</td>\n",
              "    </tr>\n",
              "    <tr>\n",
              "      <th>1</th>\n",
              "      <td>3</td>\n",
              "      <td>145834</td>\n",
              "      <td>[78559, 5849, 4275, 41071, 4280, 6826, 4254, 2...</td>\n",
              "    </tr>\n",
              "    <tr>\n",
              "      <th>2</th>\n",
              "      <td>4</td>\n",
              "      <td>185777</td>\n",
              "      <td>[1363, 7994, 2763, 7907, 5715, V090, E9317]</td>\n",
              "    </tr>\n",
              "    <tr>\n",
              "      <th>3</th>\n",
              "      <td>5</td>\n",
              "      <td>178980</td>\n",
              "      <td>[V3000, V053, V290]</td>\n",
              "    </tr>\n",
              "    <tr>\n",
              "      <th>4</th>\n",
              "      <td>6</td>\n",
              "      <td>107064</td>\n",
              "      <td>[40391, 4440, 9972, 2766, 2767, 2859, 2753, V1...</td>\n",
              "    </tr>\n",
              "  </tbody>\n",
              "</table>\n",
              "</div>"
            ],
            "text/plain": [
              "   SUBJECT_ID  HADM_ID                                          ICD9_CODE\n",
              "0           2   163353                                [V3001, V053, V290]\n",
              "1           3   145834  [78559, 5849, 4275, 41071, 4280, 6826, 4254, 2...\n",
              "2           4   185777        [1363, 7994, 2763, 7907, 5715, V090, E9317]\n",
              "3           5   178980                                [V3000, V053, V290]\n",
              "4           6   107064  [40391, 4440, 9972, 2766, 2767, 2859, 2753, V1..."
            ]
          },
          "execution_count": 5,
          "metadata": {},
          "output_type": "execute_result"
        }
      ],
      "source": [
        "diagnosisGrouped = diagnosis.groupby([\"SUBJECT_ID\",\"HADM_ID\"])[\"ICD9_CODE\"].apply(list).reset_index()\n",
        "diagnosisGrouped.head()"
      ]
    },
    {
      "cell_type": "code",
      "execution_count": null,
      "id": "0c57a04a",
      "metadata": {
        "id": "0c57a04a",
        "outputId": "af5311e2-7ec2-4936-e898-f5d5766a714b"
      },
      "outputs": [
        {
          "name": "stderr",
          "output_type": "stream",
          "text": [
            "C:\\Users\\balle\\AppData\\Local\\Temp/ipykernel_8176/642132842.py:3: SettingWithCopyWarning: \n",
            "A value is trying to be set on a copy of a slice from a DataFrame.\n",
            "Try using .loc[row_indexer,col_indexer] = value instead\n",
            "\n",
            "See the caveats in the documentation: https://pandas.pydata.org/pandas-docs/stable/user_guide/indexing.html#returning-a-view-versus-a-copy\n",
            "  admissionswithDiabetes[\"ICD9_CODE_primary\"] = admissionswithDiabetes[\"ICD9_CODE\"].apply(lambda x: convert_icd9(x))\n"
          ]
        },
        {
          "data": {
            "text/html": [
              "<div>\n",
              "<style scoped>\n",
              "    .dataframe tbody tr th:only-of-type {\n",
              "        vertical-align: middle;\n",
              "    }\n",
              "\n",
              "    .dataframe tbody tr th {\n",
              "        vertical-align: top;\n",
              "    }\n",
              "\n",
              "    .dataframe thead th {\n",
              "        text-align: right;\n",
              "    }\n",
              "</style>\n",
              "<table border=\"1\" class=\"dataframe\">\n",
              "  <thead>\n",
              "    <tr style=\"text-align: right;\">\n",
              "      <th></th>\n",
              "      <th>SUBJECT_ID</th>\n",
              "      <th>HADM_ID</th>\n",
              "      <th>ICD9_CODE</th>\n",
              "      <th>ICD9_CODE_primary</th>\n",
              "    </tr>\n",
              "  </thead>\n",
              "  <tbody>\n",
              "    <tr>\n",
              "      <th>11</th>\n",
              "      <td>13</td>\n",
              "      <td>143045</td>\n",
              "      <td>[41401, 4111, 25000, 4019, 2720]</td>\n",
              "      <td>[414, 411, 250, 401, 272]</td>\n",
              "    </tr>\n",
              "    <tr>\n",
              "      <th>15</th>\n",
              "      <td>18</td>\n",
              "      <td>188822</td>\n",
              "      <td>[25080, 78039, 29633, V5867, E9323, V5869, 478...</td>\n",
              "      <td>[250, 780, 296, V58, E932, V58, 478, 780, 783,...</td>\n",
              "    </tr>\n",
              "    <tr>\n",
              "      <th>17</th>\n",
              "      <td>20</td>\n",
              "      <td>157681</td>\n",
              "      <td>[41401, 4111, 25000, 2724, 4019]</td>\n",
              "      <td>[414, 411, 250, 272, 401]</td>\n",
              "    </tr>\n",
              "    <tr>\n",
              "      <th>18</th>\n",
              "      <td>21</td>\n",
              "      <td>109451</td>\n",
              "      <td>[41071, 78551, 5781, 5849, 40391, 4280, 4592, ...</td>\n",
              "      <td>[410, 785, 578, 584, 403, 428, 459, 507, 427, ...</td>\n",
              "    </tr>\n",
              "    <tr>\n",
              "      <th>19</th>\n",
              "      <td>21</td>\n",
              "      <td>111970</td>\n",
              "      <td>[78552, 40391, 42731, 70709, 5119, 6823, 99859...</td>\n",
              "      <td>[785, 403, 427, 707, 511, 682, 998, 572, 995, ...</td>\n",
              "    </tr>\n",
              "  </tbody>\n",
              "</table>\n",
              "</div>"
            ],
            "text/plain": [
              "    SUBJECT_ID  HADM_ID                                          ICD9_CODE  \\\n",
              "11          13   143045                   [41401, 4111, 25000, 4019, 2720]   \n",
              "15          18   188822  [25080, 78039, 29633, V5867, E9323, V5869, 478...   \n",
              "17          20   157681                   [41401, 4111, 25000, 2724, 4019]   \n",
              "18          21   109451  [41071, 78551, 5781, 5849, 40391, 4280, 4592, ...   \n",
              "19          21   111970  [78552, 40391, 42731, 70709, 5119, 6823, 99859...   \n",
              "\n",
              "                                    ICD9_CODE_primary  \n",
              "11                          [414, 411, 250, 401, 272]  \n",
              "15  [250, 780, 296, V58, E932, V58, 478, 780, 783,...  \n",
              "17                          [414, 411, 250, 272, 401]  \n",
              "18  [410, 785, 578, 584, 403, 428, 459, 507, 427, ...  \n",
              "19  [785, 403, 427, 707, 511, 682, 998, 572, 995, ...  "
            ]
          },
          "execution_count": 6,
          "metadata": {},
          "output_type": "execute_result"
        }
      ],
      "source": [
        "diagnosisGrouped[\"ICD9_CODE\"] = diagnosisGrouped[\"ICD9_CODE\"].apply(lambda x: exclude_procedure_code(x))\n",
        "admissionswithDiabetes = diagnosisGrouped[diagnosisGrouped[\"ICD9_CODE\"].apply(lambda x: checkdiagnosis(x))]\n",
        "admissionswithDiabetes[\"ICD9_CODE_primary\"] = admissionswithDiabetes[\"ICD9_CODE\"].apply(lambda x: convert_icd9(x))\n",
        "admissionswithDiabetes.head()"
      ]
    },
    {
      "cell_type": "code",
      "execution_count": null,
      "id": "4b6363ef",
      "metadata": {
        "scrolled": true,
        "id": "4b6363ef",
        "outputId": "c30d8d42-7725-4307-c442-6b036a400861"
      },
      "outputs": [
        {
          "name": "stdout",
          "output_type": "stream",
          "text": [
            "(406203, 6)\n"
          ]
        },
        {
          "data": {
            "text/html": [
              "<div>\n",
              "<style scoped>\n",
              "    .dataframe tbody tr th:only-of-type {\n",
              "        vertical-align: middle;\n",
              "    }\n",
              "\n",
              "    .dataframe tbody tr th {\n",
              "        vertical-align: top;\n",
              "    }\n",
              "\n",
              "    .dataframe thead th {\n",
              "        text-align: right;\n",
              "    }\n",
              "</style>\n",
              "<table border=\"1\" class=\"dataframe\">\n",
              "  <thead>\n",
              "    <tr style=\"text-align: right;\">\n",
              "      <th></th>\n",
              "      <th>HADM_ID</th>\n",
              "      <th>TEXT</th>\n",
              "      <th>DESCRIPTION</th>\n",
              "      <th>SUBJECT_ID</th>\n",
              "      <th>ICD9_CODE</th>\n",
              "      <th>ICD9_CODE_primary</th>\n",
              "    </tr>\n",
              "  </thead>\n",
              "  <tbody>\n",
              "    <tr>\n",
              "      <th>0</th>\n",
              "      <td>121936.0</td>\n",
              "      <td>Admission Date:  [**2125-2-9**]              D...</td>\n",
              "      <td>Report</td>\n",
              "      <td>28063</td>\n",
              "      <td>[42843, 41071, 5990, 4275, 5849, 5070, 4280, 2...</td>\n",
              "      <td>[428, 410, 599, 427, 584, 507, 428, 272, 401, ...</td>\n",
              "    </tr>\n",
              "    <tr>\n",
              "      <th>1</th>\n",
              "      <td>121936.0</td>\n",
              "      <td>PATIENT/TEST INFORMATION:\\nIndication: Aortic ...</td>\n",
              "      <td>Report</td>\n",
              "      <td>28063</td>\n",
              "      <td>[42843, 41071, 5990, 4275, 5849, 5070, 4280, 2...</td>\n",
              "      <td>[428, 410, 599, 427, 584, 507, 428, 272, 401, ...</td>\n",
              "    </tr>\n",
              "    <tr>\n",
              "      <th>2</th>\n",
              "      <td>121936.0</td>\n",
              "      <td>PATIENT/TEST INFORMATION:\\nIndication:  Aortic...</td>\n",
              "      <td>Report</td>\n",
              "      <td>28063</td>\n",
              "      <td>[42843, 41071, 5990, 4275, 5849, 5070, 4280, 2...</td>\n",
              "      <td>[428, 410, 599, 427, 584, 507, 428, 272, 401, ...</td>\n",
              "    </tr>\n",
              "    <tr>\n",
              "      <th>3</th>\n",
              "      <td>121936.0</td>\n",
              "      <td>Sinus rhythm.  Frequent atrial premature beats...</td>\n",
              "      <td>Report</td>\n",
              "      <td>28063</td>\n",
              "      <td>[42843, 41071, 5990, 4275, 5849, 5070, 4280, 2...</td>\n",
              "      <td>[428, 410, 599, 427, 584, 507, 428, 272, 401, ...</td>\n",
              "    </tr>\n",
              "    <tr>\n",
              "      <th>4</th>\n",
              "      <td>121936.0</td>\n",
              "      <td>Rhythm is most likely sinus rhythm with freque...</td>\n",
              "      <td>Report</td>\n",
              "      <td>28063</td>\n",
              "      <td>[42843, 41071, 5990, 4275, 5849, 5070, 4280, 2...</td>\n",
              "      <td>[428, 410, 599, 427, 584, 507, 428, 272, 401, ...</td>\n",
              "    </tr>\n",
              "  </tbody>\n",
              "</table>\n",
              "</div>"
            ],
            "text/plain": [
              "    HADM_ID                                               TEXT DESCRIPTION  \\\n",
              "0  121936.0  Admission Date:  [**2125-2-9**]              D...      Report   \n",
              "1  121936.0  PATIENT/TEST INFORMATION:\\nIndication: Aortic ...      Report   \n",
              "2  121936.0  PATIENT/TEST INFORMATION:\\nIndication:  Aortic...      Report   \n",
              "3  121936.0  Sinus rhythm.  Frequent atrial premature beats...      Report   \n",
              "4  121936.0  Rhythm is most likely sinus rhythm with freque...      Report   \n",
              "\n",
              "   SUBJECT_ID                                          ICD9_CODE  \\\n",
              "0       28063  [42843, 41071, 5990, 4275, 5849, 5070, 4280, 2...   \n",
              "1       28063  [42843, 41071, 5990, 4275, 5849, 5070, 4280, 2...   \n",
              "2       28063  [42843, 41071, 5990, 4275, 5849, 5070, 4280, 2...   \n",
              "3       28063  [42843, 41071, 5990, 4275, 5849, 5070, 4280, 2...   \n",
              "4       28063  [42843, 41071, 5990, 4275, 5849, 5070, 4280, 2...   \n",
              "\n",
              "                                   ICD9_CODE_primary  \n",
              "0  [428, 410, 599, 427, 584, 507, 428, 272, 401, ...  \n",
              "1  [428, 410, 599, 427, 584, 507, 428, 272, 401, ...  \n",
              "2  [428, 410, 599, 427, 584, 507, 428, 272, 401, ...  \n",
              "3  [428, 410, 599, 427, 584, 507, 428, 272, 401, ...  \n",
              "4  [428, 410, 599, 427, 584, 507, 428, 272, 401, ...  "
            ]
          },
          "execution_count": 7,
          "metadata": {},
          "output_type": "execute_result"
        }
      ],
      "source": [
        "combineddf=noteEvents.merge(admissionswithDiabetes, on=\"HADM_ID\")\n",
        "print(combineddf.shape)\n",
        "combineddf.head()"
      ]
    },
    {
      "cell_type": "code",
      "execution_count": null,
      "id": "58b80e41",
      "metadata": {
        "id": "58b80e41"
      },
      "outputs": [],
      "source": [
        "processeddf=combineddf.copy()\n",
        "spacestring=\" \"*len(string.punctuation.replace(\"'\",\"\"))\n",
        "dstring=\"d\"*len(string.digits)\n",
        "processeddf[\"TEXT\"]=processeddf[\"TEXT\"].apply(lambda x: x.translate(str.maketrans(string.punctuation.replace(\"'\",\"\"),spacestring)))\n",
        "processeddf[\"TEXT\"] = processeddf[\"TEXT\"].apply(lambda x: x.translate(str.maketrans(string.digits,dstring)))\n",
        "processeddf[\"TEXT\"] = processeddf[\"TEXT\"].apply(lambda x: x.lower())\n",
        "processeddf[\"TEXT\"] = processeddf[\"TEXT\"].apply(lambda x: x.split())"
      ]
    },
    {
      "cell_type": "code",
      "execution_count": null,
      "id": "3656af9c",
      "metadata": {
        "id": "3656af9c"
      },
      "outputs": [],
      "source": [
        "wordslist=processeddf[\"TEXT\"].tolist()\n",
        "flatlist=list(itertools.chain(*wordslist))\n",
        "wordset=set(flatlist)\n",
        "wordDict=Counter(flatlist)\n",
        "wordDict5orMore= dict(filter(lambda x: x[1] >=5, wordDict.items())) \n",
        "\n",
        "wordDictLessThan5 = dict(filter(lambda x: x[1] <5, wordDict.items()))"
      ]
    },
    {
      "cell_type": "code",
      "execution_count": null,
      "id": "32dfb27c",
      "metadata": {
        "id": "32dfb27c",
        "outputId": "421b25f2-d499-4b4f-d4ef-7051c9818955"
      },
      "outputs": [
        {
          "name": "stdout",
          "output_type": "stream",
          "text": [
            "53229\n",
            "109486\n"
          ]
        }
      ],
      "source": [
        "print(len(wordDict5orMore)) #53229\n",
        "print(len(wordDictLessThan5)) #109486"
      ]
    },
    {
      "cell_type": "code",
      "execution_count": null,
      "id": "74c9cc4a",
      "metadata": {
        "id": "74c9cc4a"
      },
      "outputs": [],
      "source": [
        "###GENERATE Dictionary for mapping mispelled words\n",
        "# mapped_dict = dict()\n",
        "\n",
        "# for w in range(len(wordListLessThan5)):\n",
        "#     lev_dist = []\n",
        "#     for i in range(len(wordList5orMore)):\n",
        "#         lev_dist.append(lev(wordListLessThan5[w], wordList5orMore[i]))\n",
        "#     print(np.argmin(lev_dist))\n",
        "#     mapped_dict[wordListLessThan5[w]] = wordList5orMore[np.argmin(lev_dist)]\n",
        "\n",
        "# print(len(mapped_dict))\n",
        "\n",
        "# with open('mapDictionary.pkl', 'wb') as f:\n",
        "#     pickle.dump(mapped_dict, f)\n",
        "\n",
        "with open('mapDictionary.pkl', 'rb') as f:\n",
        "    mapped_dict = pickle.load(f)"
      ]
    },
    {
      "cell_type": "code",
      "execution_count": null,
      "id": "15354c07",
      "metadata": {
        "scrolled": false,
        "id": "15354c07",
        "outputId": "4ab41809-4815-44e0-b9cf-f8d5fe8f1607"
      },
      "outputs": [
        {
          "name": "stdout",
          "output_type": "stream",
          "text": [
            "(399623, 6)\n"
          ]
        },
        {
          "data": {
            "text/html": [
              "<div>\n",
              "<style scoped>\n",
              "    .dataframe tbody tr th:only-of-type {\n",
              "        vertical-align: middle;\n",
              "    }\n",
              "\n",
              "    .dataframe tbody tr th {\n",
              "        vertical-align: top;\n",
              "    }\n",
              "\n",
              "    .dataframe thead th {\n",
              "        text-align: right;\n",
              "    }\n",
              "</style>\n",
              "<table border=\"1\" class=\"dataframe\">\n",
              "  <thead>\n",
              "    <tr style=\"text-align: right;\">\n",
              "      <th></th>\n",
              "      <th>HADM_ID</th>\n",
              "      <th>TEXT</th>\n",
              "      <th>DESCRIPTION</th>\n",
              "      <th>SUBJECT_ID</th>\n",
              "      <th>ICD9_CODE</th>\n",
              "      <th>ICD9_CODE_primary</th>\n",
              "    </tr>\n",
              "  </thead>\n",
              "  <tbody>\n",
              "    <tr>\n",
              "      <th>1</th>\n",
              "      <td>121936.0</td>\n",
              "      <td>[patient, test, information, indication, aorti...</td>\n",
              "      <td>Report</td>\n",
              "      <td>28063</td>\n",
              "      <td>[42843, 41071, 5990, 4275, 5849, 5070, 4280, 2...</td>\n",
              "      <td>[428, 410, 599, 427, 584, 507, 428, 272, 401, ...</td>\n",
              "    </tr>\n",
              "    <tr>\n",
              "      <th>2</th>\n",
              "      <td>121936.0</td>\n",
              "      <td>[patient, test, information, indication, aorti...</td>\n",
              "      <td>Report</td>\n",
              "      <td>28063</td>\n",
              "      <td>[42843, 41071, 5990, 4275, 5849, 5070, 4280, 2...</td>\n",
              "      <td>[428, 410, 599, 427, 584, 507, 428, 272, 401, ...</td>\n",
              "    </tr>\n",
              "    <tr>\n",
              "      <th>3</th>\n",
              "      <td>121936.0</td>\n",
              "      <td>[sinus, rhythm, frequent, atrial, premature, b...</td>\n",
              "      <td>Report</td>\n",
              "      <td>28063</td>\n",
              "      <td>[42843, 41071, 5990, 4275, 5849, 5070, 4280, 2...</td>\n",
              "      <td>[428, 410, 599, 427, 584, 507, 428, 272, 401, ...</td>\n",
              "    </tr>\n",
              "    <tr>\n",
              "      <th>4</th>\n",
              "      <td>121936.0</td>\n",
              "      <td>[rhythm, is, most, likely, sinus, rhythm, with...</td>\n",
              "      <td>Report</td>\n",
              "      <td>28063</td>\n",
              "      <td>[42843, 41071, 5990, 4275, 5849, 5070, 4280, 2...</td>\n",
              "      <td>[428, 410, 599, 427, 584, 507, 428, 272, 401, ...</td>\n",
              "    </tr>\n",
              "    <tr>\n",
              "      <th>5</th>\n",
              "      <td>121936.0</td>\n",
              "      <td>[atrial, fibrillation, intraventricular, condu...</td>\n",
              "      <td>Report</td>\n",
              "      <td>28063</td>\n",
              "      <td>[42843, 41071, 5990, 4275, 5849, 5070, 4280, 2...</td>\n",
              "      <td>[428, 410, 599, 427, 584, 507, 428, 272, 401, ...</td>\n",
              "    </tr>\n",
              "  </tbody>\n",
              "</table>\n",
              "</div>"
            ],
            "text/plain": [
              "    HADM_ID                                               TEXT DESCRIPTION  \\\n",
              "1  121936.0  [patient, test, information, indication, aorti...      Report   \n",
              "2  121936.0  [patient, test, information, indication, aorti...      Report   \n",
              "3  121936.0  [sinus, rhythm, frequent, atrial, premature, b...      Report   \n",
              "4  121936.0  [rhythm, is, most, likely, sinus, rhythm, with...      Report   \n",
              "5  121936.0  [atrial, fibrillation, intraventricular, condu...      Report   \n",
              "\n",
              "   SUBJECT_ID                                          ICD9_CODE  \\\n",
              "1       28063  [42843, 41071, 5990, 4275, 5849, 5070, 4280, 2...   \n",
              "2       28063  [42843, 41071, 5990, 4275, 5849, 5070, 4280, 2...   \n",
              "3       28063  [42843, 41071, 5990, 4275, 5849, 5070, 4280, 2...   \n",
              "4       28063  [42843, 41071, 5990, 4275, 5849, 5070, 4280, 2...   \n",
              "5       28063  [42843, 41071, 5990, 4275, 5849, 5070, 4280, 2...   \n",
              "\n",
              "                                   ICD9_CODE_primary  \n",
              "1  [428, 410, 599, 427, 584, 507, 428, 272, 401, ...  \n",
              "2  [428, 410, 599, 427, 584, 507, 428, 272, 401, ...  \n",
              "3  [428, 410, 599, 427, 584, 507, 428, 272, 401, ...  \n",
              "4  [428, 410, 599, 427, 584, 507, 428, 272, 401, ...  \n",
              "5  [428, 410, 599, 427, 584, 507, 428, 272, 401, ...  "
            ]
          },
          "execution_count": 12,
          "metadata": {},
          "output_type": "execute_result"
        }
      ],
      "source": [
        "limited_processeddf = processeddf[processeddf['TEXT'].apply(lambda x: len(x)) > 9]\n",
        "limited_processeddf = limited_processeddf[limited_processeddf['TEXT'].apply(lambda x: len(x)) < 2200]\n",
        "print(limited_processeddf.shape)\n",
        "limited_processeddf.head()\n"
      ]
    },
    {
      "cell_type": "code",
      "execution_count": null,
      "id": "db28aa85",
      "metadata": {
        "id": "db28aa85"
      },
      "outputs": [],
      "source": [
        "def map_misspelled(x):\n",
        "    new_l = [mapped_dict.get(item, item) for item in x]\n",
        "    return new_l\n",
        "\n",
        "limited_processeddf[\"TEXT\"] = limited_processeddf[\"TEXT\"].apply(lambda x: map_misspelled(x))"
      ]
    },
    {
      "cell_type": "code",
      "execution_count": null,
      "id": "d0372121",
      "metadata": {
        "id": "d0372121",
        "outputId": "36eccac4-e56a-4291-8e89-c721781efbb1"
      },
      "outputs": [
        {
          "name": "stdout",
          "output_type": "stream",
          "text": [
            "Num. icd9 primary code 6703628\n",
            "Num. unique icd9 primary code 808\n",
            "Num. icd9 regular code 6703628\n",
            "Num. unique icd9 regular code 3965\n"
          ]
        }
      ],
      "source": [
        "icd9_list=limited_processeddf[\"ICD9_CODE_primary\"].tolist()\n",
        "icd9_flatlist=list(itertools.chain(*icd9_list))\n",
        "print(\"Num. icd9 primary code\",len(icd9_flatlist))\n",
        "icd9_wordset=set(icd9_flatlist)\n",
        "icd9_wordDict=Counter(icd9_flatlist)\n",
        "print(\"Num. unique icd9 primary code\",len(icd9_wordDict))\n",
        "icd9_re_list=limited_processeddf[\"ICD9_CODE\"].tolist()\n",
        "icd9_re_flatlist=list(itertools.chain(*icd9_re_list))\n",
        "print(\"Num. icd9 regular code\",len(icd9_re_flatlist))\n",
        "icd9_re_wordset=set(icd9_re_flatlist)\n",
        "icd9_re_wordDict=Counter(icd9_re_flatlist)\n",
        "print(\"Num. unique icd9 regular code\",len(icd9_re_wordDict))"
      ]
    },
    {
      "cell_type": "code",
      "execution_count": null,
      "id": "4f28a577",
      "metadata": {
        "id": "4f28a577",
        "outputId": "8fdacf0b-9075-48de-b79a-af9d54203fb3"
      },
      "outputs": [
        {
          "name": "stdout",
          "output_type": "stream",
          "text": [
            "avgCodesperReport 16.773669183205172\n",
            "avgPriCodesperReport 15.200246232073729\n"
          ]
        }
      ],
      "source": [
        "limited_processeddf[\"ICD9_SET\"]= limited_processeddf[\"ICD9_CODE\"].apply(lambda x: set(x))\n",
        "limited_processeddf[\"NumberofICD9Codes\"] = limited_processeddf[\"ICD9_SET\"].apply(lambda x: len(x))\n",
        "limited_processeddf[\"NumberofICD9CodesPri\"] = limited_processeddf[\"ICD9_CODE_primary\"].apply(lambda x: len(set(x)))\n",
        "CodesperReport = limited_processeddf[\"NumberofICD9Codes\"].tolist()\n",
        "avgcodesperReport = sum(CodesperReport) / len(CodesperReport)\n",
        "PriCodesperReportlist = limited_processeddf[\"NumberofICD9CodesPri\"].tolist()\n",
        "avgPriCodesperReport = sum(PriCodesperReportlist) / len(PriCodesperReportlist)\n",
        "print(\"avgCodesperReport\",avgcodesperReport)\n",
        "print(\"avgPriCodesperReport\",avgPriCodesperReport)"
      ]
    },
    {
      "cell_type": "code",
      "execution_count": null,
      "id": "e990ce4f",
      "metadata": {
        "id": "e990ce4f",
        "outputId": "7e089c51-5875-4ea2-dc87-7ec518aff159"
      },
      "outputs": [
        {
          "name": "stdout",
          "output_type": "stream",
          "text": [
            "avgTokensperReport 309.05638814582744\n"
          ]
        }
      ],
      "source": [
        "limited_processeddf[\"NumberofTokens\"] = limited_processeddf[\"TEXT\"].apply(lambda x: len(x))\n",
        "NumberofTokensList=limited_processeddf[\"NumberofTokens\"].tolist()\n",
        "avgTokensperReport = sum(NumberofTokensList) / len(NumberofTokensList)\n",
        "print(\"avgTokensperReport\",avgTokensperReport)"
      ]
    },
    {
      "cell_type": "code",
      "execution_count": null,
      "id": "f33c32c1",
      "metadata": {
        "id": "f33c32c1",
        "outputId": "8ac0d5ac-2710-4d4d-dca6-a888ab378aeb"
      },
      "outputs": [
        {
          "name": "stdout",
          "output_type": "stream",
          "text": [
            "avgDensityperReport 0.02075949156337274\n",
            "avgPriDensityperReport 0.0038336056070803854\n"
          ]
        }
      ],
      "source": [
        "print(\"avgDensityperReport\",avgcodesperReport/len(icd9_wordDict))\n",
        "print(\"avgPriDensityperReport\",avgPriCodesperReport/len(icd9_re_wordDict))"
      ]
    },
    {
      "cell_type": "markdown",
      "id": "4608acbb",
      "metadata": {
        "id": "4608acbb"
      },
      "source": [
        "# Model"
      ]
    },
    {
      "cell_type": "code",
      "execution_count": null,
      "id": "5abadfb6",
      "metadata": {
        "scrolled": true,
        "id": "5abadfb6",
        "outputId": "d8bfd745-7d59-4371-b2dc-b9b6a1527050"
      },
      "outputs": [
        {
          "name": "stderr",
          "output_type": "stream",
          "text": [
            "C:\\Users\\balle\\AppData\\Local\\Temp/ipykernel_8176/3641008178.py:6: SettingWithCopyWarning: \n",
            "A value is trying to be set on a copy of a slice from a DataFrame.\n",
            "Try using .loc[row_indexer,col_indexer] = value instead\n",
            "\n",
            "See the caveats in the documentation: https://pandas.pydata.org/pandas-docs/stable/user_guide/indexing.html#returning-a-view-versus-a-copy\n",
            "  textfiledf[\"ReportTokens\"]=textfiledf[\"TEXT\"].apply(lambda x: stringText(x))\n"
          ]
        }
      ],
      "source": [
        "textfiledf=limited_processeddf[[\"TEXT\",\"ICD9_CODE\"]]\n",
        "\n",
        "def stringText(lst):\n",
        "    return ' '.join(lst)\n",
        "\n",
        "textfiledf[\"ReportTokens\"]=textfiledf[\"TEXT\"].apply(lambda x: stringText(x))\n"
      ]
    },
    {
      "cell_type": "code",
      "execution_count": null,
      "id": "a7371b03",
      "metadata": {
        "id": "a7371b03",
        "outputId": "1d29c3b8-1d6f-4140-ac3e-0cc02def647e"
      },
      "outputs": [
        {
          "name": "stderr",
          "output_type": "stream",
          "text": [
            "C:\\Users\\balle\\AppData\\Local\\Temp/ipykernel_8176/2917634657.py:5: SettingWithCopyWarning: \n",
            "A value is trying to be set on a copy of a slice from a DataFrame.\n",
            "Try using .loc[row_indexer,col_indexer] = value instead\n",
            "\n",
            "See the caveats in the documentation: https://pandas.pydata.org/pandas-docs/stable/user_guide/indexing.html#returning-a-view-versus-a-copy\n",
            "  textfiledf[\"Labels\"]=textfiledf[\"ICD9_CODE\"].apply(lambda x: Labels(x))\n"
          ]
        },
        {
          "data": {
            "text/html": [
              "<div>\n",
              "<style scoped>\n",
              "    .dataframe tbody tr th:only-of-type {\n",
              "        vertical-align: middle;\n",
              "    }\n",
              "\n",
              "    .dataframe tbody tr th {\n",
              "        vertical-align: top;\n",
              "    }\n",
              "\n",
              "    .dataframe thead th {\n",
              "        text-align: right;\n",
              "    }\n",
              "</style>\n",
              "<table border=\"1\" class=\"dataframe\">\n",
              "  <thead>\n",
              "    <tr style=\"text-align: right;\">\n",
              "      <th></th>\n",
              "      <th>TEXT</th>\n",
              "      <th>ICD9_CODE</th>\n",
              "      <th>ReportTokens</th>\n",
              "      <th>Labels</th>\n",
              "    </tr>\n",
              "  </thead>\n",
              "  <tbody>\n",
              "    <tr>\n",
              "      <th>1</th>\n",
              "      <td>[patient, test, information, indication, aorti...</td>\n",
              "      <td>[42843, 41071, 5990, 4275, 5849, 5070, 4280, 2...</td>\n",
              "      <td>patient test information indication aortic val...</td>\n",
              "      <td>__label__42843 __label__41071 __label__5990 __...</td>\n",
              "    </tr>\n",
              "    <tr>\n",
              "      <th>2</th>\n",
              "      <td>[patient, test, information, indication, aorti...</td>\n",
              "      <td>[42843, 41071, 5990, 4275, 5849, 5070, 4280, 2...</td>\n",
              "      <td>patient test information indication aortic val...</td>\n",
              "      <td>__label__42843 __label__41071 __label__5990 __...</td>\n",
              "    </tr>\n",
              "    <tr>\n",
              "      <th>3</th>\n",
              "      <td>[sinus, rhythm, frequent, atrial, premature, b...</td>\n",
              "      <td>[42843, 41071, 5990, 4275, 5849, 5070, 4280, 2...</td>\n",
              "      <td>sinus rhythm frequent atrial premature beats c...</td>\n",
              "      <td>__label__42843 __label__41071 __label__5990 __...</td>\n",
              "    </tr>\n",
              "    <tr>\n",
              "      <th>4</th>\n",
              "      <td>[rhythm, is, most, likely, sinus, rhythm, with...</td>\n",
              "      <td>[42843, 41071, 5990, 4275, 5849, 5070, 4280, 2...</td>\n",
              "      <td>rhythm is most likely sinus rhythm with freque...</td>\n",
              "      <td>__label__42843 __label__41071 __label__5990 __...</td>\n",
              "    </tr>\n",
              "    <tr>\n",
              "      <th>5</th>\n",
              "      <td>[atrial, fibrillation, intraventricular, condu...</td>\n",
              "      <td>[42843, 41071, 5990, 4275, 5849, 5070, 4280, 2...</td>\n",
              "      <td>atrial fibrillation intraventricular conductio...</td>\n",
              "      <td>__label__42843 __label__41071 __label__5990 __...</td>\n",
              "    </tr>\n",
              "  </tbody>\n",
              "</table>\n",
              "</div>"
            ],
            "text/plain": [
              "                                                TEXT  \\\n",
              "1  [patient, test, information, indication, aorti...   \n",
              "2  [patient, test, information, indication, aorti...   \n",
              "3  [sinus, rhythm, frequent, atrial, premature, b...   \n",
              "4  [rhythm, is, most, likely, sinus, rhythm, with...   \n",
              "5  [atrial, fibrillation, intraventricular, condu...   \n",
              "\n",
              "                                           ICD9_CODE  \\\n",
              "1  [42843, 41071, 5990, 4275, 5849, 5070, 4280, 2...   \n",
              "2  [42843, 41071, 5990, 4275, 5849, 5070, 4280, 2...   \n",
              "3  [42843, 41071, 5990, 4275, 5849, 5070, 4280, 2...   \n",
              "4  [42843, 41071, 5990, 4275, 5849, 5070, 4280, 2...   \n",
              "5  [42843, 41071, 5990, 4275, 5849, 5070, 4280, 2...   \n",
              "\n",
              "                                        ReportTokens  \\\n",
              "1  patient test information indication aortic val...   \n",
              "2  patient test information indication aortic val...   \n",
              "3  sinus rhythm frequent atrial premature beats c...   \n",
              "4  rhythm is most likely sinus rhythm with freque...   \n",
              "5  atrial fibrillation intraventricular conductio...   \n",
              "\n",
              "                                              Labels  \n",
              "1  __label__42843 __label__41071 __label__5990 __...  \n",
              "2  __label__42843 __label__41071 __label__5990 __...  \n",
              "3  __label__42843 __label__41071 __label__5990 __...  \n",
              "4  __label__42843 __label__41071 __label__5990 __...  \n",
              "5  __label__42843 __label__41071 __label__5990 __...  "
            ]
          },
          "execution_count": 20,
          "metadata": {},
          "output_type": "execute_result"
        }
      ],
      "source": [
        "def Labels(lst):\n",
        "    string=' __label__'.join(lst)\n",
        "    return \"__label__\"+string\n",
        "\n",
        "textfiledf[\"Labels\"]=textfiledf[\"ICD9_CODE\"].apply(lambda x: Labels(x))\n",
        "textfiledf.head(5)\n"
      ]
    },
    {
      "cell_type": "code",
      "execution_count": null,
      "id": "59b3e9cf",
      "metadata": {
        "id": "59b3e9cf"
      },
      "outputs": [],
      "source": [
        "with open(\"ReportTokens.txt\", 'w') as f:\n",
        "    dfAsString = textfiledf[[\"Labels\",\"ReportTokens\"]].to_string(header=False, index=False)\n",
        "    f.write(dfAsString)\n",
        "\n"
      ]
    },
    {
      "cell_type": "code",
      "execution_count": null,
      "id": "69212394",
      "metadata": {
        "id": "69212394",
        "outputId": "e7390c25-b329-44a1-a270-70f7c02a8213"
      },
      "outputs": [
        {
          "name": "stderr",
          "output_type": "stream",
          "text": [
            "C:\\Users\\balle\\AppData\\Local\\Temp/ipykernel_8176/759764125.py:3: SettingWithCopyWarning: \n",
            "A value is trying to be set on a copy of a slice from a DataFrame.\n",
            "Try using .loc[row_indexer,col_indexer] = value instead\n",
            "\n",
            "See the caveats in the documentation: https://pandas.pydata.org/pandas-docs/stable/user_guide/indexing.html#returning-a-view-versus-a-copy\n",
            "  textfiledf_pri[\"ReportTokens\"]=textfiledf_pri[\"TEXT\"].apply(lambda x: stringText(x))\n",
            "C:\\Users\\balle\\AppData\\Local\\Temp/ipykernel_8176/759764125.py:4: SettingWithCopyWarning: \n",
            "A value is trying to be set on a copy of a slice from a DataFrame.\n",
            "Try using .loc[row_indexer,col_indexer] = value instead\n",
            "\n",
            "See the caveats in the documentation: https://pandas.pydata.org/pandas-docs/stable/user_guide/indexing.html#returning-a-view-versus-a-copy\n",
            "  textfiledf_pri[\"Labels\"]=textfiledf_pri[\"ICD9_CODE_primary\"].apply(lambda x: Labels(x))\n"
          ]
        }
      ],
      "source": [
        "textfiledf_pri=limited_processeddf[[\"TEXT\",\"ICD9_CODE_primary\"]]\n",
        "\n",
        "textfiledf_pri[\"ReportTokens\"]=textfiledf_pri[\"TEXT\"].apply(lambda x: stringText(x))\n",
        "textfiledf_pri[\"Labels\"]=textfiledf_pri[\"ICD9_CODE_primary\"].apply(lambda x: Labels(x))\n",
        "textfiledf_pri.head(5)\n",
        "\n",
        "with open(\"ReportTokensPri.txt\", 'w') as f:\n",
        "    dfAsString = textfiledf[[\"Labels\",\"ReportTokens\"]].to_string(header=False, index=False)\n",
        "    f.write(dfAsString)\n"
      ]
    },
    {
      "cell_type": "code",
      "execution_count": null,
      "id": "aea6b7e0",
      "metadata": {
        "id": "aea6b7e0"
      },
      "outputs": [],
      "source": [
        "with open(\"SampleReportTokensPri.txt\", 'w') as f:\n",
        "    dfAsString = textfiledf_pri[[\"Labels\",\"ReportTokens\"]].iloc[0:100].to_string(header=False, index=False)\n",
        "    f.write(dfAsString)\n"
      ]
    },
    {
      "cell_type": "code",
      "execution_count": null,
      "id": "c9cba4fe",
      "metadata": {
        "id": "c9cba4fe",
        "outputId": "53c1e1d3-cd16-44c4-fcfa-4302f487cff5"
      },
      "outputs": [
        {
          "data": {
            "text/html": [
              "<div>\n",
              "<style scoped>\n",
              "    .dataframe tbody tr th:only-of-type {\n",
              "        vertical-align: middle;\n",
              "    }\n",
              "\n",
              "    .dataframe tbody tr th {\n",
              "        vertical-align: top;\n",
              "    }\n",
              "\n",
              "    .dataframe thead th {\n",
              "        text-align: right;\n",
              "    }\n",
              "</style>\n",
              "<table border=\"1\" class=\"dataframe\">\n",
              "  <thead>\n",
              "    <tr style=\"text-align: right;\">\n",
              "      <th></th>\n",
              "      <th>Labels</th>\n",
              "      <th>ReportTokens</th>\n",
              "    </tr>\n",
              "  </thead>\n",
              "  <tbody>\n",
              "    <tr>\n",
              "      <th>1</th>\n",
              "      <td>__label__428 __label__410 __label__599 __label...</td>\n",
              "      <td>patient test information indication aortic val...</td>\n",
              "    </tr>\n",
              "    <tr>\n",
              "      <th>2</th>\n",
              "      <td>__label__428 __label__410 __label__599 __label...</td>\n",
              "      <td>patient test information indication aortic val...</td>\n",
              "    </tr>\n",
              "    <tr>\n",
              "      <th>3</th>\n",
              "      <td>__label__428 __label__410 __label__599 __label...</td>\n",
              "      <td>sinus rhythm frequent atrial premature beats c...</td>\n",
              "    </tr>\n",
              "    <tr>\n",
              "      <th>4</th>\n",
              "      <td>__label__428 __label__410 __label__599 __label...</td>\n",
              "      <td>rhythm is most likely sinus rhythm with freque...</td>\n",
              "    </tr>\n",
              "    <tr>\n",
              "      <th>5</th>\n",
              "      <td>__label__428 __label__410 __label__599 __label...</td>\n",
              "      <td>atrial fibrillation intraventricular conductio...</td>\n",
              "    </tr>\n",
              "    <tr>\n",
              "      <th>...</th>\n",
              "      <td>...</td>\n",
              "      <td>...</td>\n",
              "    </tr>\n",
              "    <tr>\n",
              "      <th>98</th>\n",
              "      <td>__label__806 __label__584 __label__599 __label...</td>\n",
              "      <td>dddd d d d dd pm c spine non trauma w flex ext...</td>\n",
              "    </tr>\n",
              "    <tr>\n",
              "      <th>99</th>\n",
              "      <td>__label__806 __label__584 __label__599 __label...</td>\n",
              "      <td>dddd d d d dd pm chest pa lat clip clip number...</td>\n",
              "    </tr>\n",
              "    <tr>\n",
              "      <th>100</th>\n",
              "      <td>__label__806 __label__584 __label__599 __label...</td>\n",
              "      <td>dddd d d d dd pm chest portable ap clip clip n...</td>\n",
              "    </tr>\n",
              "    <tr>\n",
              "      <th>101</th>\n",
              "      <td>__label__806 __label__584 __label__599 __label...</td>\n",
              "      <td>dddd d d d dd am chest portable ap clip clip n...</td>\n",
              "    </tr>\n",
              "    <tr>\n",
              "      <th>102</th>\n",
              "      <td>__label__806 __label__584 __label__599 __label...</td>\n",
              "      <td>dddd d dd d dd pm shoulder ap neutral axillary...</td>\n",
              "    </tr>\n",
              "  </tbody>\n",
              "</table>\n",
              "<p>100 rows × 2 columns</p>\n",
              "</div>"
            ],
            "text/plain": [
              "                                                Labels  \\\n",
              "1    __label__428 __label__410 __label__599 __label...   \n",
              "2    __label__428 __label__410 __label__599 __label...   \n",
              "3    __label__428 __label__410 __label__599 __label...   \n",
              "4    __label__428 __label__410 __label__599 __label...   \n",
              "5    __label__428 __label__410 __label__599 __label...   \n",
              "..                                                 ...   \n",
              "98   __label__806 __label__584 __label__599 __label...   \n",
              "99   __label__806 __label__584 __label__599 __label...   \n",
              "100  __label__806 __label__584 __label__599 __label...   \n",
              "101  __label__806 __label__584 __label__599 __label...   \n",
              "102  __label__806 __label__584 __label__599 __label...   \n",
              "\n",
              "                                          ReportTokens  \n",
              "1    patient test information indication aortic val...  \n",
              "2    patient test information indication aortic val...  \n",
              "3    sinus rhythm frequent atrial premature beats c...  \n",
              "4    rhythm is most likely sinus rhythm with freque...  \n",
              "5    atrial fibrillation intraventricular conductio...  \n",
              "..                                                 ...  \n",
              "98   dddd d d d dd pm c spine non trauma w flex ext...  \n",
              "99   dddd d d d dd pm chest pa lat clip clip number...  \n",
              "100  dddd d d d dd pm chest portable ap clip clip n...  \n",
              "101  dddd d d d dd am chest portable ap clip clip n...  \n",
              "102  dddd d dd d dd pm shoulder ap neutral axillary...  \n",
              "\n",
              "[100 rows x 2 columns]"
            ]
          },
          "execution_count": 28,
          "metadata": {},
          "output_type": "execute_result"
        }
      ],
      "source": [
        "textfiledf_pri[[\"Labels\",\"ReportTokens\"]].iloc[0:100]"
      ]
    },
    {
      "cell_type": "code",
      "execution_count": null,
      "id": "e801b6ac",
      "metadata": {
        "id": "e801b6ac",
        "outputId": "e0ea3185-1feb-4308-8769-ac8ed2a9e457"
      },
      "outputs": [
        {
          "name": "stdout",
          "output_type": "stream",
          "text": [
            "                                                   Labels  \\\n",
            "357544  __label__962 __label__584 __label__518 __label...   \n",
            "268343  __label__562 __label__518 __label__482 __label...   \n",
            "177878  __label__153 __label__428 __label__997 __label...   \n",
            "288991  __label__482 __label__995 __label__785 __label...   \n",
            "74910   __label__250 __label__707 __label__427 __label...   \n",
            "\n",
            "                                             ReportTokens  \n",
            "357544  pmh this is a dd year old man with history of ...  \n",
            "268343  shift evaluation pt is dd yo female with hx of...  \n",
            "177878  atrial fibrillation diffuse non specific st t ...  \n",
            "288991  demographics day of intubation day of mechanic...  \n",
            "74910   temp off set d pt has oximetric swan location ...  \n",
            "                                                   Labels  \\\n",
            "185905  __label__518 __label__507 __label__510 __label...   \n",
            "187411  __label__410 __label__414 __label__428 __label...   \n",
            "370923  __label__428 __label__427 __label__584 __label...   \n",
            "165274  __label__441 __label__285 __label__997 __label...   \n",
            "370753  __label__707 __label__285 __label__428 __label...   \n",
            "\n",
            "                                             ReportTokens  \n",
            "185905  shift note dddd dddd cv hr dd dd's nsr with no...  \n",
            "187411  atrially paced rhythm with intrinsic a v condu...  \n",
            "370923  probable multifocal atrial tachycardia ventric...  \n",
            "165274  respiratory therapy pt remains orally intubate...  \n",
            "370753  nursing progress note please refer to carevue ...  \n",
            "                                                   Labels  \\\n",
            "8113    __label__518 __label__428 __label__584 __label...   \n",
            "267271  __label__574 __label__584 __label__552 __label...   \n",
            "120026  __label__424 __label__518 __label__414 __label...   \n",
            "278948  __label__191 __label__331 __label__784 __label...   \n",
            "174024  __label__486 __label__518 __label__428 __label...   \n",
            "\n",
            "                                             ReportTokens  \n",
            "8113    chief complaint dd year old female with histor...  \n",
            "267271  chief complaint rapid aflutter hct drop i saw ...  \n",
            "120026  demographics day of intubation d day of mechan...  \n",
            "278948  sicu hpi ddm with d dd months of intermittent ...  \n",
            "174024  dddd d dd d dd am chest portable ap clip clip ...  \n",
            "                                                   Labels  \\\n",
            "98130   __label__562 __label__567 __label__584 __label...   \n",
            "363412  __label__998 __label__482 __label__511 __label...   \n",
            "359402  __label__428 __label__482 __label__518 __label...   \n",
            "54678   __label__482 __label__276 __label__V09 __label...   \n",
            "378145  __label__434 __label__518 __label__427 __label...   \n",
            "\n",
            "                                             ReportTokens  \n",
            "98130   dddd dd dd d dd am chest portable ap clip clip...  \n",
            "363412  chief complaint altered mental status hpi ddm ...  \n",
            "359402  respiratory care note patient sleepy most of t...  \n",
            "54678   admission date dddd d dd discharge date dddd d...  \n",
            "378145  respiratory therapy pt remains trached on mmv ...  \n",
            "                                                   Labels  \\\n",
            "135264  __label__996 __label__998 __label__428 __label...   \n",
            "35004   __label__414 __label__428 __label__998 __label...   \n",
            "24157   __label__428 __label__486 __label__577 __label...   \n",
            "240839  __label__952 __label__518 __label__507 __label...   \n",
            "269882  __label__421 __label__360 __label__434 __label...   \n",
            "\n",
            "                                             ReportTokens  \n",
            "135264  demographics day of intubation day of mechanic...  \n",
            "35004   dddd d dd dd dd pm chest port line placement c...  \n",
            "24157   pneumonia assessment pt continues to have prod...  \n",
            "240839  dddd d d d dd am chest portable ap clip clip n...  \n",
            "269882  pt is a dd y o f hxdmd cva esrd on hd she is t...  \n"
          ]
        }
      ],
      "source": [
        "df= textfiledf_pri[[\"Labels\",\"ReportTokens\"]].sample(frac=1)\n",
        "shuffled = textfiledf_pri[[\"Labels\",\"ReportTokens\"]].sample(frac=1)\n",
        "result = np.array_split(shuffled, 5)  \n",
        "k=0\n",
        "for part in result:\n",
        "    print(part.head())\n"
      ]
    },
    {
      "cell_type": "code",
      "execution_count": null,
      "id": "017e7f66",
      "metadata": {
        "id": "017e7f66",
        "outputId": "59806f57-6c03-4888-b6e1-19cc6822bdc2"
      },
      "outputs": [
        {
          "name": "stdout",
          "output_type": "stream",
          "text": [
            "TRAIN: [     1      2      4 ... 399620 399621 399622] TEST: [     0      3     16 ... 399610 399612 399615]\n",
            "TRAIN: [     0      1      2 ... 399619 399621 399622] TEST: [     9     14     18 ... 399598 399607 399620]\n",
            "TRAIN: [     0      1      3 ... 399619 399620 399621] TEST: [     2      4      5 ... 399617 399618 399622]\n",
            "TRAIN: [     0      1      2 ... 399618 399620 399622] TEST: [    10     12     15 ... 399616 399619 399621]\n",
            "TRAIN: [     0      2      3 ... 399620 399621 399622] TEST: [     1      6      8 ... 399599 399608 399611]\n"
          ]
        }
      ],
      "source": [
        "from sklearn.model_selection import KFold\n",
        "\n",
        "#added some parameters\n",
        "kf = KFold(n_splits = 5, shuffle = True, random_state = 2)\n",
        "result = next(kf.split(df), None)\n",
        "#print (result)\n",
        "\n",
        "train = df.iloc[result[0]]\n",
        "test =  df.iloc[result[1]]\n",
        "\n",
        "#print (train)\n",
        "\n",
        "k=0\n",
        "for train_index, test_index in kf.split(df):\n",
        "    print(\"TRAIN:\", train_index, \"TEST:\", test_index)\n",
        "    df_train, df_test = df.iloc[train_index], df.iloc[test_index]\n",
        "    \n",
        "    with open(\"ReportTokensPriTrain\"+str(k)+\".txt\", 'w') as f:\n",
        "        dfAsString = df_train.to_string(header=False, index=False)\n",
        "        f.write(dfAsString)\n",
        "    \n",
        "    with open(\"ReportTokensPriTest\"+str(k)+\".txt\", 'w') as f:\n",
        "        dfAsString = df_test.to_string(header=False, index=False)\n",
        "        f.write(dfAsString)\n",
        "    \n",
        "    k=k+1\n",
        "    \n",
        "    \n",
        "    \n",
        "\n",
        "\n"
      ]
    },
    {
      "cell_type": "code",
      "execution_count": null,
      "id": "90c8dba1",
      "metadata": {
        "id": "90c8dba1",
        "outputId": "7298f5fe-3dd3-4691-a5d6-16eaa1c676c3"
      },
      "outputs": [
        {
          "name": "stdout",
          "output_type": "stream",
          "text": [
            "TRAIN: [     1      2      4 ... 399620 399621 399622] TEST: [     0      3     16 ... 399610 399612 399615]\n",
            "TRAIN: [     0      1      2 ... 399619 399621 399622] TEST: [     9     14     18 ... 399598 399607 399620]\n",
            "TRAIN: [     0      1      3 ... 399619 399620 399621] TEST: [     2      4      5 ... 399617 399618 399622]\n",
            "TRAIN: [     0      1      2 ... 399618 399620 399622] TEST: [    10     12     15 ... 399616 399619 399621]\n",
            "TRAIN: [     0      2      3 ... 399620 399621 399622] TEST: [     1      6      8 ... 399599 399608 399611]\n"
          ]
        }
      ],
      "source": [
        "df= textfiledf[[\"Labels\",\"ReportTokens\"]].sample(frac=1)\n",
        "shuffled = textfiledf[[\"Labels\",\"ReportTokens\"]].sample(frac=1)\n",
        "result = np.array_split(shuffled, 5)  \n",
        "\n",
        "kf = KFold(n_splits = 5, shuffle = True, random_state = 2)\n",
        "result = next(kf.split(df), None)\n",
        "\n",
        "k=0\n",
        "for train_index, test_index in kf.split(df):\n",
        "    print(\"TRAIN:\", train_index, \"TEST:\", test_index)\n",
        "    df_train, df_test = df.iloc[train_index], df.iloc[test_index]\n",
        "    \n",
        "    with open(\"ReportTokensTrain\"+str(k)+\".txt\", 'w') as f:\n",
        "        dfAsString = df_train.to_string(header=False, index=False)\n",
        "        f.write(dfAsString)\n",
        "    \n",
        "    with open(\"ReportTokensTest\"+str(k)+\".txt\", 'w') as f:\n",
        "        dfAsString = df_test.to_string(header=False, index=False)\n",
        "        f.write(dfAsString)\n",
        "    \n",
        "    k=k+1\n",
        "    \n",
        "    \n",
        "    \n",
        "\n",
        "\n"
      ]
    },
    {
      "cell_type": "markdown",
      "id": "697616b2",
      "metadata": {
        "id": "697616b2"
      },
      "source": [
        "# Train and Test\n"
      ]
    },
    {
      "cell_type": "code",
      "execution_count": null,
      "id": "811304fb",
      "metadata": {
        "id": "811304fb",
        "outputId": "5eee35b7-adcd-4d71-efa3-d8a913c1a213"
      },
      "outputs": [
        {
          "name": "stdout",
          "output_type": "stream",
          "text": [
            "79925 0.7402143076911896 0.22797981199848977\n",
            "0.3485952151002896\n",
            "79925 0.7411325737057959 0.2286626423056291\n",
            "0.34949508886903446\n",
            "79925 0.7418344410876133 0.2289040447167356\n",
            "0.3498550980688292\n",
            "79924 0.7439531602915056 0.22740350205593668\n",
            "0.34833251384105346\n",
            "79924 0.7410001112739905 0.22868624761944578\n",
            "0.3495079277514372\n",
            "Average Precision: 0.7416269188100191\n",
            "Average Recall: 0.22832724973924737\n",
            "Average F1: 0.3491571687261288\n"
          ]
        }
      ],
      "source": [
        "import fasttext\n",
        "precisionlist=[]\n",
        "recalllist=[]\n",
        "F1list=[]\n",
        "for kfold in range(0,5):\n",
        "    model = fasttext.train_supervised(\"ReportTokensPriTrain\"+str(kfold)+\".txt\", loss=\"ova\")\n",
        "    _, precision, recall = model.test(\"ReportTokensPriTest\"+str(kfold)+\".txt\", k=-1, threshold=0.5)\n",
        "    precisionlist.append(precision)\n",
        "    print(_,precision,recall)\n",
        "    recalllist.append(recall)\n",
        "    F1=2*precision*recall/(precision+recall)\n",
        "    F1list.append(F1)\n",
        "    print(F1)\n",
        "\n",
        "print(\"Average Precision:\", sum(precisionlist)/5)\n",
        "print(\"Average Recall:\", sum(recalllist)/5)\n",
        "print(\"Average F1:\", sum(F1list)/5)"
      ]
    },
    {
      "cell_type": "code",
      "execution_count": null,
      "id": "97a7ec0a",
      "metadata": {
        "id": "97a7ec0a",
        "outputId": "eeeadf59-ee73-48d6-c151-5a2b07c60893"
      },
      "outputs": [
        {
          "data": {
            "text/plain": [
              "(('__label__427', '__label__250', '__label__428', '__label__584'),\n",
              " array([1.00001001, 1.00001001, 0.62978464, 0.53899324]))"
            ]
          },
          "execution_count": 59,
          "metadata": {},
          "output_type": "execute_result"
        }
      ],
      "source": [
        "model.predict(\"atrial fibrillation diffuse non specific\", k=-1, threshold=0.5)"
      ]
    },
    {
      "cell_type": "code",
      "execution_count": null,
      "id": "ef560c44",
      "metadata": {
        "id": "ef560c44",
        "outputId": "96cd041e-4033-43c2-d6f1-be17b2386b6c"
      },
      "outputs": [
        {
          "name": "stdout",
          "output_type": "stream",
          "text": [
            "79925 0.6606319555611859 0.12831199895018133\n",
            "0.21488727127879093\n",
            "79925 0.6606048788097421 0.1260349825593162\n",
            "0.21168346143680422\n",
            "79925 0.6617981775653091 0.12554973438687106\n",
            "0.21105939102582214\n",
            "79924 0.6612903225806451 0.12693204689469\n",
            "0.21298287764323015\n",
            "79924 0.6626049690160422 0.1280431301918804\n",
            "0.2146138450177857\n",
            "Average Precision: 0.6613860607065848\n",
            "Average Recall: 0.1269743785965878\n",
            "Average F1: 0.21304536928048662\n"
          ]
        }
      ],
      "source": [
        "precisionlist=[]\n",
        "recalllist=[]\n",
        "F1list=[]\n",
        "for kfold in range(0,5):\n",
        "    model = fasttext.train_supervised(\"ReportTokensTrain\"+str(kfold)+\".txt\", loss=\"ova\")\n",
        "    _, precision, recall = model.test(\"ReportTokensTest\"+str(kfold)+\".txt\", k=-1, threshold=0.5)\n",
        "    precisionlist.append(precision)\n",
        "    print(_,precision,recall)\n",
        "    recalllist.append(recall)\n",
        "    F1=2*precision*recall/(precision+recall)\n",
        "    F1list.append(F1)\n",
        "    print(F1)\n",
        "\n",
        "print(\"Average Precision:\", sum(precisionlist)/5)\n",
        "print(\"Average Recall:\", sum(recalllist)/5)\n",
        "print(\"Average F1:\", sum(F1list)/5)"
      ]
    },
    {
      "cell_type": "code",
      "execution_count": null,
      "id": "6fc1d2bf",
      "metadata": {
        "id": "6fc1d2bf"
      },
      "outputs": [],
      "source": [
        ""
      ]
    }
  ],
  "metadata": {
    "kernelspec": {
      "display_name": "Python 3 (ipykernel)",
      "language": "python",
      "name": "python3"
    },
    "language_info": {
      "codemirror_mode": {
        "name": "ipython",
        "version": 3
      },
      "file_extension": ".py",
      "mimetype": "text/x-python",
      "name": "python",
      "nbconvert_exporter": "python",
      "pygments_lexer": "ipython3",
      "version": "3.9.7"
    },
    "colab": {
      "name": "MYY Project Notebook.ipynb",
      "provenance": []
    }
  },
  "nbformat": 4,
  "nbformat_minor": 5
}